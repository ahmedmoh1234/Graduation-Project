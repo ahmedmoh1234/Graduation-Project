{
 "cells": [
  {
   "cell_type": "code",
   "execution_count": 11,
   "metadata": {},
   "outputs": [],
   "source": [
    "import numpy as np\n",
    "import cv2\n",
    "import os\n",
    "import skimage.io as io\n",
    "from skimage.color import rgb2gray\n",
    "from sklearn.datasets import fetch_olivetti_faces\n",
    "import matplotlib.pyplot as plt"
   ]
  },
  {
   "attachments": {},
   "cell_type": "markdown",
   "metadata": {},
   "source": [
    "## Loading Datasets"
   ]
  },
  {
   "attachments": {},
   "cell_type": "markdown",
   "metadata": {},
   "source": [
    "### Our Dataset"
   ]
  },
  {
   "cell_type": "code",
   "execution_count": 16,
   "metadata": {},
   "outputs": [],
   "source": [
    "dirname = os.path.abspath('')\n",
    "datasets_path = os.path.join(dirname, 'Datasets')\n",
    "people_path = os.path.join(datasets_path, 'Our faces')\n",
    "\n",
    "def load_our_dataset():\n",
    "    #  Loop over every directory in people path\n",
    "    y = dict()\n",
    "    images = []\n",
    "    i=0\n",
    "    min_width = float('inf')\n",
    "    min_height = float('inf')\n",
    "    \n",
    "    for directory in os.listdir(people_path):\n",
    "        #  Loop over every image in the directory\n",
    "        for image in os.listdir(os.path.join(people_path, directory)):\n",
    "            #  Load the image\n",
    "            img = io.imread(os.path.join(people_path, directory, image))\n",
    "            img = rgb2gray(img)\n",
    "            # resize image to width*height\n",
    "            if (np.max(img) > 1):\n",
    "                img = img / 255.0\n",
    "            \n",
    "            if(img.shape[0] < min_height):\n",
    "                min_height = img.shape[0]\n",
    "            if(img.shape[1] < min_width):\n",
    "                min_width = img.shape[1]\n",
    "                \n",
    "            images.append(img)\n",
    "            y[i] = [directory]\n",
    "            i+=1\n",
    "    \n",
    "    images = np.array([cv2.resize(image, (min_height, min_width))for image in images])\n",
    "        \n",
    "    return images,y"
   ]
  },
  {
   "attachments": {},
   "cell_type": "markdown",
   "metadata": {},
   "source": [
    "### Olivetti Dataset"
   ]
  },
  {
   "cell_type": "code",
   "execution_count": null,
   "metadata": {},
   "outputs": [],
   "source": []
  },
  {
   "attachments": {},
   "cell_type": "markdown",
   "metadata": {},
   "source": [
    "## Convert images to gray scale and same shape of trained images"
   ]
  },
  {
   "cell_type": "code",
   "execution_count": null,
   "metadata": {},
   "outputs": [],
   "source": [
    "#  ---------------------------- CONVERT IMAGE TO GRAY SCALE AND SAME SHAPE OF TRAINED IMAGES ---------------------------- #\n",
    "\n",
    "def convert_image(image, width, height):\n",
    "    # plt.imshow(image, cmap='gray', label='Input image')\n",
    "    # plt.show()\n",
    "    # if image is RGB, convert to grayscale\n",
    "    if len(image.shape) > 2:\n",
    "        image = image[:,:,:3]\n",
    "        image = rgb2gray(image)\n",
    "    # resize image to width*height\n",
    "    image = cv2.resize(image, (width, height))\n",
    "    if (np.max(image) > 1):\n",
    "        image = image / 255.0\n",
    "    image = image.reshape((width*height, 1))\n",
    "    # Show image\n",
    "    # plt.imshow(image.reshape(height, width), cmap='gray', label='Input image')\n",
    "    # plt.show()\n",
    "\n",
    "    return image"
   ]
  },
  {
   "attachments": {},
   "cell_type": "markdown",
   "metadata": {},
   "source": [
    "## Flatten Images"
   ]
  },
  {
   "cell_type": "code",
   "execution_count": null,
   "metadata": {},
   "outputs": [],
   "source": [
    "def flatten_images(images, m, height, width, verbose=False):\n",
    "    # Flatten images array\n",
    "    # Each column is an image\n",
    "\n",
    "    # N^2 * M\n",
    "    flattened_images = images.reshape(m, -1).T\n",
    "\n",
    "    if(verbose):\n",
    "        print(\n",
    "            f'Shape of training images after flattening: {flattened_images.shape}')\n",
    "\n",
    "    return flattened_images"
   ]
  },
  {
   "attachments": {},
   "cell_type": "markdown",
   "metadata": {},
   "source": [
    "## Extract Info from Dataser"
   ]
  },
  {
   "cell_type": "code",
   "execution_count": null,
   "metadata": {},
   "outputs": [],
   "source": [
    "def extract_info_from_our_dataset(images,y,verbose=False):\n",
    "    m = images.shape[0]\n",
    "    if(verbose):\n",
    "        print('Images shape:', images.shape)\n",
    "\n",
    "    total_images, height, width = images.shape\n",
    "    if(verbose):\n",
    "        print(f'Each image has size: {height} x {width}')\n",
    "        print(70 * '-')\n",
    "\n",
    "    n_features = height*width\n",
    "    if(verbose):\n",
    "        print(f'N^2 = n_features = h x w = {n_features}')\n",
    "        print(70 * '-')\n",
    "\n",
    "    if(verbose):\n",
    "        print('y has shape:', y.shape)\n",
    "\n",
    "    return images, m, height, width, total_images, n_features, y"
   ]
  },
  {
   "attachments": {},
   "cell_type": "markdown",
   "metadata": {},
   "source": [
    "## Load Parameters"
   ]
  },
  {
   "cell_type": "code",
   "execution_count": null,
   "metadata": {},
   "outputs": [],
   "source": [
    "def load_parameters():\n",
    "    omegas = np.load(omegas_path)\n",
    "    eigenfaces = np.load(eigenfaces_path)\n",
    "    average_image = np.load(average_image_path)\n",
    "    return omegas, eigenfaces, average_image"
   ]
  },
  {
   "attachments": {},
   "cell_type": "markdown",
   "metadata": {},
   "source": [
    "## Predict an Image"
   ]
  },
  {
   "cell_type": "code",
   "execution_count": null,
   "metadata": {},
   "outputs": [],
   "source": [
    "def predict(omegas, test_image, average_image, eigenfaces, height, width, threshold=7):\n",
    "    # Predict the class of a test image\n",
    "    # Calculate omega for test image\n",
    "    omega = np.matmul((test_image - average_image).T, eigenfaces)\n",
    "\n",
    "    # Calculate distance between omega and all omegas\n",
    "    distances = np.linalg.norm(omegas - omega, axis=1)\n",
    "\n",
    "    # Get the index of the minimum distance\n",
    "    index = np.argmin(distances)\n",
    "\n",
    "    # Get min distance\n",
    "    min_distance = distances[index]\n",
    "    if(min_distance < threshold):\n",
    "        return index\n",
    "    else:\n",
    "        return -1  # Unknown"
   ]
  },
  {
   "attachments": {},
   "cell_type": "markdown",
   "metadata": {},
   "source": [
    "## Main"
   ]
  },
  {
   "cell_type": "code",
   "execution_count": null,
   "metadata": {},
   "outputs": [],
   "source": [
    "def recognizer_main(input_image):\n",
    "    # dataset = load_olivetti_dataset()\n",
    "    # images, _, height, width, _, _, _, _ = extract_info_from_olivetti_dataset(dataset)\n",
    "    images, y = load_our_dataset()\n",
    "    images, _, height, width, _, _, _ = extract_info_from_our_dataset(images,y)\n",
    "    \n",
    "    omegas, eigenfaces, average_image = load_parameters()\n",
    "    input_image = convert_image(input_image, width, height)\n",
    "    plt.imshow(input_image.reshape(height,width), cmap='gray', label='Input image')\n",
    "    plt.show()\n",
    "\n",
    "    predicted_index = predict(omegas, input_image, average_image, eigenfaces, height, width, 120)\n",
    "    if (predicted_index == -1):\n",
    "        print('Unknown face')\n",
    "    else:\n",
    "        print('Known face')\n",
    "        # show predicted image\n",
    "        print(\"Image Index: \", predicted_index)\n",
    "        print(\"Target Index: \", y[predicted_index])\n",
    "        plt.imshow(images[predicted_index],cmap='gray', label='Predicted image')\n",
    "        plt.show()"
   ]
  }
 ],
 "metadata": {
  "kernelspec": {
   "display_name": "Python 3",
   "language": "python",
   "name": "python3"
  },
  "language_info": {
   "codemirror_mode": {
    "name": "ipython",
    "version": 3
   },
   "file_extension": ".py",
   "mimetype": "text/x-python",
   "name": "python",
   "nbconvert_exporter": "python",
   "pygments_lexer": "ipython3",
   "version": "3.9.5"
  },
  "orig_nbformat": 4
 },
 "nbformat": 4,
 "nbformat_minor": 2
}
