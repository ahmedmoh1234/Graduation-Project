{
 "cells": [
  {
   "cell_type": "code",
   "execution_count": 1,
   "metadata": {},
   "outputs": [],
   "source": [
    "import numpy as np\n",
    "from sklearn.model_selection import train_test_split\n",
    "from sklearn.model_selection import GridSearchCV\n",
    "from sklearn.datasets import fetch_lfw_people\n",
    "from sklearn.datasets import fetch_olivetti_faces\n",
    "from sklearn.metrics import classification_report\n",
    "from sklearn.metrics import confusion_matrix\n",
    "from sklearn.decomposition import PCA\n",
    "from sklearn.svm import SVC\n",
    "import matplotlib.pyplot as plt\n",
    "import random\n",
    "import pickle"
   ]
  },
  {
   "cell_type": "code",
   "execution_count": 2,
   "metadata": {},
   "outputs": [],
   "source": [
    "# ---------------------------- LOAD OLIVIETTA DATASET ---------------------------- #\n",
    "\n",
    "lfw_people = fetch_olivetti_faces(data_home='D:\\Senior II\\Graduation Project\\Graduation-Project\\Eigenfaces\\Datasets\\Olivetti', shuffle=True, random_state=47)"
   ]
  },
  {
   "cell_type": "code",
   "execution_count": 3,
   "metadata": {},
   "outputs": [
    {
     "name": "stdout",
     "output_type": "stream",
     "text": [
      "Images shape: (400, 64, 64)\n",
      "Each image has size: 64 x 64\n",
      "----------------------------------------------------------------------\n",
      "N^2 = n_features = h x w = 4096\n",
      "----------------------------------------------------------------------\n",
      "y has shape: (400,)\n",
      "Number of people = 40\n"
     ]
    }
   ],
   "source": [
    "images = lfw_people.images\n",
    "print('Images shape:',images.shape)\n",
    "\n",
    "total_images, height, width = images.shape\n",
    "print(f'Each image has size: {height} x {width}')\n",
    "\n",
    "print(70* '-')\n",
    "\n",
    "n_features = height*width\n",
    "print(f'N^2 = n_features = h x w = {n_features}')\n",
    "\n",
    "print(70* '-')\n",
    "\n",
    "y = lfw_people.target\n",
    "print('y has shape:', y.shape)\n",
    "\n",
    "num_people = np.max(y) + 1\n",
    "print('Number of people =', num_people)"
   ]
  },
  {
   "cell_type": "code",
   "execution_count": 4,
   "metadata": {},
   "outputs": [],
   "source": [
    "#----------------------- CREATE PEOPLE DICTIONARY -----------------------#\n",
    "\n",
    "# Key: person ID\n",
    "# Value: List of all person images indices\n",
    "person_image_dict = dict()\n",
    "\n",
    "for image_index in range(total_images):\n",
    "    if (y[image_index] not in person_image_dict.keys()):\n",
    "        person_image_dict[y[image_index]] = [image_index]\n",
    "    else:\n",
    "        person_image_dict[y[image_index]].append(image_index)"
   ]
  },
  {
   "cell_type": "code",
   "execution_count": 5,
   "metadata": {},
   "outputs": [
    {
     "name": "stdout",
     "output_type": "stream",
     "text": [
      "Train images shape: (320, 64, 64)\n",
      "Test images shape: (80, 64, 64)\n",
      "----------------------------------------------------------------------\n",
      "Number of train images: 320\n",
      "Number of test images: 80\n"
     ]
    }
   ],
   "source": [
    "train_images = []\n",
    "test_images = []\n",
    "y_train = []\n",
    "y_test = []\n",
    "\n",
    "# guarantee that each person has at least 1 image in test set\n",
    "for image_index_lst in person_image_dict.values():\n",
    "    total_size = len(image_index_lst)\n",
    "    size_train = int(0.8 * total_size)\n",
    "    for index in range(len(image_index_lst)):\n",
    "        image = images[image_index_lst[index]]\n",
    "        label = y[image_index_lst[index]]\n",
    "        if (index < size_train):\n",
    "            train_images.append(image)\n",
    "            y_train.append(label)\n",
    "        else:\n",
    "            test_images.append(image)\n",
    "            y_test.append(label)\n",
    "    \n",
    "\n",
    "train_images = np.array(train_images)\n",
    "test_images = np.array(test_images)\n",
    "y_train = np.array(y_train)\n",
    "y_test = np.array(y_test)\n",
    "\n",
    "print('Train images shape:', train_images.shape)\n",
    "print('Test images shape:', test_images.shape)\n",
    "\n",
    "m = train_images.shape[0]\n",
    "m_test = test_images.shape[0]\n",
    "print(70* '-')\n",
    "print('Number of train images:', m)\n",
    "print('Number of test images:', m_test)\n"
   ]
  },
  {
   "cell_type": "code",
   "execution_count": 6,
   "metadata": {},
   "outputs": [
    {
     "name": "stdout",
     "output_type": "stream",
     "text": [
      "Images shape: (400, 64, 64)\n",
      "Each image has size: 64 x 64\n",
      "----------------------------------------------------------------------\n",
      "M = Number of examples =  320\n",
      "M_test = Number of test examples =  80\n",
      "Train images shape: (320, 64, 64)\n",
      "Test images shape: (80, 64, 64)\n",
      "N^2 = n_features = h x w = 4096\n",
      "----------------------------------------------------------------------\n",
      "y has shape: (400,)\n",
      "y_train has shape: (320,)\n",
      "y_test has shape: (80,)\n",
      "Number of people = 40\n"
     ]
    }
   ],
   "source": [
    "images = lfw_people.images\n",
    "print('Images shape:',images.shape)\n",
    "\n",
    "total_images, height, width = images.shape\n",
    "print(f'Each image has size: {height} x {width}')\n",
    "\n",
    "print(70* '-')\n",
    "\n",
    "m = int(total_images * 0.8)\n",
    "print('M = Number of examples = ', m)\n",
    "\n",
    "m_test = total_images - m\n",
    "print('M_test = Number of test examples = ', m_test)\n",
    "\n",
    "train_images = images[:int(m)]\n",
    "print('Train images shape:', train_images.shape)\n",
    "\n",
    "test_images = images[int(m):]\n",
    "print('Test images shape:', test_images.shape)\n",
    "\n",
    "n_features = height*width\n",
    "print(f'N^2 = n_features = h x w = {n_features}')\n",
    "\n",
    "print(70* '-')\n",
    "\n",
    "y = lfw_people.target\n",
    "print('y has shape:', y.shape)\n",
    "\n",
    "y_train = y[:int(m)]\n",
    "print('y_train has shape:', y_train.shape)\n",
    "\n",
    "y_test = y[int(m):]\n",
    "print('y_test has shape:', y_test.shape)\n",
    "\n",
    "# target_names = lfw_people.target_names\n",
    "num_people = np.max(y) + 1\n",
    "print('Number of people =', num_people)"
   ]
  },
  {
   "attachments": {},
   "cell_type": "markdown",
   "metadata": {},
   "source": [
    "## PCA Old Method"
   ]
  },
  {
   "cell_type": "code",
   "execution_count": null,
   "metadata": {},
   "outputs": [],
   "source": [
    "# --------------------- GET FLATTEN IMAGES --------------------- #\n",
    "\n",
    "# Flatten images array\n",
    "# Each column is an image\n",
    "\n",
    "# N^2 * M\n",
    "flattened_images = train_images.reshape(m, -1).T\n",
    "\n",
    "# N^2 * M_test\n",
    "flattened_test_images = test_images.reshape(m_test, -1).T\n",
    "\n",
    "print(f'Shape of training images after flattening: {flattened_images.shape}')\n",
    "print(f'Shape of test images after flattening: {flattened_test_images.shape}')"
   ]
  },
  {
   "cell_type": "code",
   "execution_count": null,
   "metadata": {},
   "outputs": [],
   "source": [
    "# ----------------- CALCULATE AVERAGE IMAGE ----------------- #\n",
    "\n",
    "# In all corresponding pixels in all images, we calculate the average\n",
    "\n",
    "# N^2 * 1\n",
    "average_image = np.mean(flattened_images, axis = 1)[:,np.newaxis]\n",
    "\n",
    "print(f'Average image has shape: {average_image.shape}')\n",
    "plt.imshow(average_image.reshape(height,width), cmap='gray')\n",
    "plt.show()"
   ]
  },
  {
   "cell_type": "code",
   "execution_count": null,
   "metadata": {},
   "outputs": [],
   "source": [
    "#-------------------------------- GET DIFFERENCE IMAGES --------------------------------#\n",
    "\n",
    "# Subtract the average image from all images\n",
    "# This is done to remove the average face from all images\n",
    "# N^2 * M\n",
    "difference_images = flattened_images - average_image\n",
    "\n",
    "print(f'Shape after subtracting average face: {difference_images.shape}')\n"
   ]
  },
  {
   "cell_type": "code",
   "execution_count": null,
   "metadata": {},
   "outputs": [],
   "source": [
    "# --------------------- SHOW ONE DIFFERENCE IMAGE AND COMPARE TO ORIGINAL --------------------- #\n",
    "\n",
    "index = int(random.random() * m)\n",
    "\n",
    "plt.imshow(difference_images[:,index].reshape(height, width), cmap='gray')\n",
    "plt.show()\n",
    "\n",
    "# Print original image\n",
    "plt.imshow(train_images[index,:,:], cmap='gray')\n",
    "plt.show()"
   ]
  },
  {
   "cell_type": "code",
   "execution_count": null,
   "metadata": {},
   "outputs": [],
   "source": [
    "#--------------------- GET COVARIANCE MATRIX --------------------- #\n",
    "\n",
    "# C = A * A^T where A = difference_images\n",
    "\n",
    "# N^2 * M\n",
    "A = difference_images\n",
    "\n",
    "if (m > n_features):\n",
    "    # N^2 * N^2\n",
    "    covariance_matrix = np.matmul(difference_images, difference_images.T)\n",
    "    print('Shape of covariance matrix = N^2 * N^2 = ', covariance_matrix.shape)\n",
    "    \n",
    "else:\n",
    "    # M * M\n",
    "    covariance_matrix = np.matmul(difference_images.T, difference_images)\n",
    "    print('Shape of covariance matrix = M * M = ', covariance_matrix.shape)"
   ]
  },
  {
   "cell_type": "code",
   "execution_count": null,
   "metadata": {},
   "outputs": [],
   "source": [
    "# --------------------------------- GET EIGENVALUES AND EIGENVECTORS --------------------------------- #\n",
    "# M eigenvalues and M eigenvectors\n",
    "# where M is the number of examples\n",
    "\n",
    "eigenvalues, eigenvectors = np.linalg.eigh(covariance_matrix)\n",
    "print('Shape of eigenvalues:', eigenvalues.shape)\n",
    "print('Shape of eigenvectors before matrix multiplication:', eigenvectors.shape)\n",
    "\n",
    "# Try to remove\n",
    "eigenvectors = np.matmul(difference_images, eigenvectors)\n",
    "\n",
    "print('Shape of eigenvectors after matrix multiplication:', eigenvectors.shape)"
   ]
  },
  {
   "cell_type": "code",
   "execution_count": null,
   "metadata": {},
   "outputs": [],
   "source": [
    "# --------------------------------- NORMALIZE EIGENVECTORS --------------------------------- #\n",
    "\n",
    "eigenvectors = eigenvectors / np.linalg.norm(eigenvectors, axis=0)\n",
    "\n",
    "print('Shape of eigenvectors after normalization:', eigenvectors.shape)"
   ]
  },
  {
   "cell_type": "code",
   "execution_count": null,
   "metadata": {},
   "outputs": [],
   "source": [
    "# ------------------------ SORT EIGENVECTORS ------------------------ #\n",
    "\n",
    "# Get top K eigenvectors\n",
    "indices_of_top_eigenvalues = np.argsort(-eigenvalues)\n",
    "eigenvalues = eigenvalues[indices_of_top_eigenvalues]\n",
    "eigenvectors = eigenvectors[:, indices_of_top_eigenvalues]"
   ]
  },
  {
   "cell_type": "code",
   "execution_count": null,
   "metadata": {},
   "outputs": [],
   "source": [
    "# --------------------------------- CALCULATE K --------------------------------- #\n",
    "\n",
    "#Try to understand\n",
    "\n",
    "#Calculate the number of components to preserve 95% of the variance\n",
    "variance = 0.95\n",
    "K = m\n",
    "for ii, eigen_value_cumsum in enumerate(np.cumsum(eigenvalues) / np.sum(eigenvalues)):\n",
    "    if eigen_value_cumsum > variance:\n",
    "        K = ii\n",
    "        break\n",
    "\n",
    "print(f'Number of components to preserve {variance*100}% of the variance = {K}')"
   ]
  },
  {
   "cell_type": "code",
   "execution_count": null,
   "metadata": {},
   "outputs": [],
   "source": [
    "# --------------------------------- SELECT K TOP EIGENVECTORS --------------------------------- #\n",
    "\n",
    "# Select only K Eigenvectors\n",
    "eigenvalues = eigenvalues[:K].copy()\n",
    "eigenvectors = eigenvectors[:, :K].copy()\n",
    "\n",
    "print('Shape of eigenvalues after selecting top K:', eigenvalues.shape)\n",
    "# N^2 * K\n",
    "print('Shape of eigenvectors after selecting top K:', eigenvectors.shape)"
   ]
  },
  {
   "cell_type": "code",
   "execution_count": null,
   "metadata": {},
   "outputs": [],
   "source": [
    "for i in range(min(K, 16)):\n",
    "    plt.subplot(4, 4, i+1)\n",
    "    plt.imshow(eigenvectors[:,i].reshape(height, width), cmap='gray')\n",
    "    plt.title(f'Eigenface {i+1}')\n",
    "    plt.axis('off')"
   ]
  },
  {
   "cell_type": "code",
   "execution_count": null,
   "metadata": {},
   "outputs": [],
   "source": [
    "# ------------------------ SHOW A RANDOM EIGENFACE ------------------------ #\n",
    "\n",
    "# index = int(random.random() * m)\n",
    "index = 10\n",
    "plt.imshow(eigenvectors[:,index].reshape(height, width), cmap='gray')\n",
    "plt.show()"
   ]
  },
  {
   "cell_type": "code",
   "execution_count": null,
   "metadata": {},
   "outputs": [],
   "source": [
    "# ------------------------ CALCULATE OMEGAS ------------------------ #\n",
    "\n",
    "omegas = []\n",
    "for image in difference_images.T:\n",
    "    omegas.append(np.dot(image, eigenvectors))\n",
    "omegas = np.array(omegas)\n",
    "print('Shape of omegas:', omegas.shape)"
   ]
  },
  {
   "attachments": {},
   "cell_type": "markdown",
   "metadata": {},
   "source": [
    "## Testing Old Method"
   ]
  },
  {
   "cell_type": "code",
   "execution_count": 56,
   "metadata": {},
   "outputs": [
    {
     "name": "stdout",
     "output_type": "stream",
     "text": [
      "Accuracy: 89.0%\n"
     ]
    }
   ],
   "source": [
    "# ---------------------------- TESTING ACCURACY ---------------------------- #\n",
    "count = 0\n",
    "trials = 1000\n",
    "for trial in range(trials):\n",
    "    # Get test image index randomly\n",
    "    index = int(random.random() * m_test)\n",
    "    \n",
    "    # Get image\n",
    "    test_image = flattened_test_images[:,index, np.newaxis]\n",
    "\n",
    "    min_distance = float('inf')\n",
    "    nearest_person = -1\n",
    "\n",
    "\n",
    "    omega_image = np.matmul((test_image - average_image).T, eigenvectors)\n",
    "\n",
    "    for i in range(m):\n",
    "        omega = omegas[i]\n",
    "        distance = np.linalg.norm(omega_image - omega)\n",
    "        if distance < min_distance:\n",
    "            min_distance = distance\n",
    "            nearest_person = i\n",
    "\n",
    "    \n",
    "    threshold = float('inf')\n",
    "    if (min_distance < threshold):\n",
    "        if(y_train[nearest_person] == y_test[index]):\n",
    "            count += 1\n",
    "print(f'Accuracy: {count/trials*100}%')"
   ]
  },
  {
   "attachments": {},
   "cell_type": "markdown",
   "metadata": {},
   "source": [
    "## New PCA"
   ]
  },
  {
   "cell_type": "code",
   "execution_count": 9,
   "metadata": {},
   "outputs": [],
   "source": [
    "def extract_pca_features(images, load=False, num_pca_components=0.95):\n",
    "        image_vectors = []\n",
    "        for image in images:\n",
    "            image_vectors.append(image.flatten())\n",
    "        image_vectors = np.array(image_vectors)\n",
    "        \n",
    "        if load:\n",
    "            pca = pickle.load(open(\"pca.pkl\", \"rb\"))\n",
    "            pca_features = pca.transform(image_vectors)\n",
    "            return pca_features\n",
    "        else:\n",
    "            print(\"Creating new PCA model...\")\n",
    "            pca = PCA(n_components = num_pca_components, svd_solver = 'full')\n",
    "            pca.fit(image_vectors)\n",
    "\n",
    "            pca_features = pca.transform(image_vectors)\n",
    "\n",
    "            pca_features = np.array(pca_features)\n",
    "            \n",
    "            pickle.dump(pca, open(\"pca.pkl\", \"wb\"))\n",
    "            \n",
    "            return pca_features"
   ]
  },
  {
   "cell_type": "code",
   "execution_count": 10,
   "metadata": {},
   "outputs": [
    {
     "name": "stdout",
     "output_type": "stream",
     "text": [
      "Creating new PCA model...\n"
     ]
    }
   ],
   "source": [
    "pca_features_train = extract_pca_features(train_images,load=False, num_pca_components=0.95)\n",
    "pca_features_test = extract_pca_features(test_images,load=True, num_pca_components=0.95)"
   ]
  },
  {
   "attachments": {},
   "cell_type": "markdown",
   "metadata": {},
   "source": [
    "## Testing New Method"
   ]
  },
  {
   "cell_type": "code",
   "execution_count": null,
   "metadata": {},
   "outputs": [],
   "source": []
  }
 ],
 "metadata": {
  "kernelspec": {
   "display_name": "Python 3",
   "language": "python",
   "name": "python3"
  },
  "language_info": {
   "codemirror_mode": {
    "name": "ipython",
    "version": 3
   },
   "file_extension": ".py",
   "mimetype": "text/x-python",
   "name": "python",
   "nbconvert_exporter": "python",
   "pygments_lexer": "ipython3",
   "version": "3.9.5"
  },
  "orig_nbformat": 4
 },
 "nbformat": 4,
 "nbformat_minor": 2
}
